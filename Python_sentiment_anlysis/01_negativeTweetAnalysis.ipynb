{
 "cells": [
  {
   "cell_type": "code",
   "execution_count": 1,
   "metadata": {},
   "outputs": [
    {
     "name": "stderr",
     "output_type": "stream",
     "text": [
      "[nltk_data] Downloading package wordnet to\n",
      "[nltk_data]     C:\\Users\\harat_local\\AppData\\Roaming\\nltk_data...\n",
      "[nltk_data]   Package wordnet is already up-to-date!\n"
     ]
    },
    {
     "name": "stdout",
     "output_type": "stream",
     "text": [
      "len(rows):  2263\n",
      "                                                  words\n",
      "0     [better, time, call?, My, flight, Friday, need...\n",
      "1                      [one, agents, available, speak?]\n",
      "2     [hung, again., Another, waste, hour, time., Ho...\n",
      "3                                     [killing, inside]\n",
      "4     [new, like, new, @SpiritAirlines., Love, AA., ...\n",
      "...                                                 ...\n",
      "2258  [2pm, flight, FLL, PHL, connection, MAN., Howe...\n",
      "2259  [hold, Gold, reservations, line, OVER, 3, HOUR...\n",
      "2260  [.@USAirways, choice, pay, another, $50, go, a...\n",
      "2261  [reservations, hold, 2, hours, hang, up...smh, 😕]\n",
      "2262  [How, r, supposed, change, flights, can't, get...\n",
      "\n",
      "[2263 rows x 1 columns]\n"
     ]
    },
    {
     "name": "stderr",
     "output_type": "stream",
     "text": [
      "100%|██████████| 2263/2263 [00:00<00:00, 115037.09it/s]\n"
     ]
    },
    {
     "data": {
      "application/vnd.plotly.v1+json": {
       "config": {
        "plotlyServerURL": "https://plot.ly"
       },
       "data": [
        {
         "alignmentgroup": "True",
         "hovertemplate": "word_count=%{text}<br>word=%{y}<extra></extra>",
         "legendgroup": "",
         "marker": {
          "pattern": {
           "shape": ""
          }
         },
         "name": "",
         "offsetgroup": "",
         "orientation": "h",
         "showlegend": false,
         "text": [
          59,
          59,
          59,
          59,
          59,
          59,
          60,
          60,
          62,
          62,
          63,
          64,
          68,
          69,
          70,
          72,
          72,
          75,
          76,
          76,
          77,
          78,
          79,
          79,
          81,
          82,
          83,
          88,
          89,
          89,
          91,
          96,
          97,
          99,
          101,
          102,
          106,
          111,
          120,
          126,
          127,
          130,
          147,
          150,
          154,
          156,
          196,
          241,
          247,
          596
         ],
         "textposition": "auto",
         "texttemplate": "%{text:.2s}",
         "type": "bar",
         "x": [
          59,
          59,
          59,
          59,
          59,
          59,
          60,
          60,
          62,
          62,
          63,
          64,
          68,
          69,
          70,
          72,
          72,
          75,
          76,
          76,
          77,
          78,
          79,
          79,
          81,
          82,
          83,
          88,
          89,
          89,
          91,
          96,
          97,
          99,
          101,
          102,
          106,
          111,
          120,
          126,
          127,
          130,
          147,
          150,
          154,
          156,
          196,
          241,
          247,
          596
         ],
         "xaxis": "x",
         "y": [
          "make",
          "people",
          "sitting",
          "us",
          "worst",
          "airline",
          "like",
          "bag",
          "another",
          "you",
          "last",
          "due",
          "thanks",
          "told",
          "got",
          "flight.",
          "would",
          "4",
          "flights",
          "flightled",
          "back",
          "minutes",
          "please",
          "never",
          "3",
          "waiting",
          "no",
          "trying",
          "can't",
          "phone",
          "gate",
          "one",
          "delayed",
          "need",
          "time",
          "help",
          "late",
          "hour",
          "plane",
          "call",
          "&amp;",
          "still",
          "2",
          "customer",
          "service",
          "hours",
          "cancelled",
          "hold",
          "get",
          "flight"
         ],
         "yaxis": "y"
        }
       ],
       "layout": {
        "barmode": "relative",
        "height": 1100,
        "legend": {
         "tracegroupgap": 0
        },
        "margin": {
         "t": 60
        },
        "template": {
         "data": {
          "bar": [
           {
            "error_x": {
             "color": "#2a3f5f"
            },
            "error_y": {
             "color": "#2a3f5f"
            },
            "marker": {
             "line": {
              "color": "#E5ECF6",
              "width": 0.5
             },
             "pattern": {
              "fillmode": "overlay",
              "size": 10,
              "solidity": 0.2
             }
            },
            "type": "bar"
           }
          ],
          "barpolar": [
           {
            "marker": {
             "line": {
              "color": "#E5ECF6",
              "width": 0.5
             },
             "pattern": {
              "fillmode": "overlay",
              "size": 10,
              "solidity": 0.2
             }
            },
            "type": "barpolar"
           }
          ],
          "carpet": [
           {
            "aaxis": {
             "endlinecolor": "#2a3f5f",
             "gridcolor": "white",
             "linecolor": "white",
             "minorgridcolor": "white",
             "startlinecolor": "#2a3f5f"
            },
            "baxis": {
             "endlinecolor": "#2a3f5f",
             "gridcolor": "white",
             "linecolor": "white",
             "minorgridcolor": "white",
             "startlinecolor": "#2a3f5f"
            },
            "type": "carpet"
           }
          ],
          "choropleth": [
           {
            "colorbar": {
             "outlinewidth": 0,
             "ticks": ""
            },
            "type": "choropleth"
           }
          ],
          "contour": [
           {
            "colorbar": {
             "outlinewidth": 0,
             "ticks": ""
            },
            "colorscale": [
             [
              0,
              "#0d0887"
             ],
             [
              0.1111111111111111,
              "#46039f"
             ],
             [
              0.2222222222222222,
              "#7201a8"
             ],
             [
              0.3333333333333333,
              "#9c179e"
             ],
             [
              0.4444444444444444,
              "#bd3786"
             ],
             [
              0.5555555555555556,
              "#d8576b"
             ],
             [
              0.6666666666666666,
              "#ed7953"
             ],
             [
              0.7777777777777778,
              "#fb9f3a"
             ],
             [
              0.8888888888888888,
              "#fdca26"
             ],
             [
              1,
              "#f0f921"
             ]
            ],
            "type": "contour"
           }
          ],
          "contourcarpet": [
           {
            "colorbar": {
             "outlinewidth": 0,
             "ticks": ""
            },
            "type": "contourcarpet"
           }
          ],
          "heatmap": [
           {
            "colorbar": {
             "outlinewidth": 0,
             "ticks": ""
            },
            "colorscale": [
             [
              0,
              "#0d0887"
             ],
             [
              0.1111111111111111,
              "#46039f"
             ],
             [
              0.2222222222222222,
              "#7201a8"
             ],
             [
              0.3333333333333333,
              "#9c179e"
             ],
             [
              0.4444444444444444,
              "#bd3786"
             ],
             [
              0.5555555555555556,
              "#d8576b"
             ],
             [
              0.6666666666666666,
              "#ed7953"
             ],
             [
              0.7777777777777778,
              "#fb9f3a"
             ],
             [
              0.8888888888888888,
              "#fdca26"
             ],
             [
              1,
              "#f0f921"
             ]
            ],
            "type": "heatmap"
           }
          ],
          "heatmapgl": [
           {
            "colorbar": {
             "outlinewidth": 0,
             "ticks": ""
            },
            "colorscale": [
             [
              0,
              "#0d0887"
             ],
             [
              0.1111111111111111,
              "#46039f"
             ],
             [
              0.2222222222222222,
              "#7201a8"
             ],
             [
              0.3333333333333333,
              "#9c179e"
             ],
             [
              0.4444444444444444,
              "#bd3786"
             ],
             [
              0.5555555555555556,
              "#d8576b"
             ],
             [
              0.6666666666666666,
              "#ed7953"
             ],
             [
              0.7777777777777778,
              "#fb9f3a"
             ],
             [
              0.8888888888888888,
              "#fdca26"
             ],
             [
              1,
              "#f0f921"
             ]
            ],
            "type": "heatmapgl"
           }
          ],
          "histogram": [
           {
            "marker": {
             "pattern": {
              "fillmode": "overlay",
              "size": 10,
              "solidity": 0.2
             }
            },
            "type": "histogram"
           }
          ],
          "histogram2d": [
           {
            "colorbar": {
             "outlinewidth": 0,
             "ticks": ""
            },
            "colorscale": [
             [
              0,
              "#0d0887"
             ],
             [
              0.1111111111111111,
              "#46039f"
             ],
             [
              0.2222222222222222,
              "#7201a8"
             ],
             [
              0.3333333333333333,
              "#9c179e"
             ],
             [
              0.4444444444444444,
              "#bd3786"
             ],
             [
              0.5555555555555556,
              "#d8576b"
             ],
             [
              0.6666666666666666,
              "#ed7953"
             ],
             [
              0.7777777777777778,
              "#fb9f3a"
             ],
             [
              0.8888888888888888,
              "#fdca26"
             ],
             [
              1,
              "#f0f921"
             ]
            ],
            "type": "histogram2d"
           }
          ],
          "histogram2dcontour": [
           {
            "colorbar": {
             "outlinewidth": 0,
             "ticks": ""
            },
            "colorscale": [
             [
              0,
              "#0d0887"
             ],
             [
              0.1111111111111111,
              "#46039f"
             ],
             [
              0.2222222222222222,
              "#7201a8"
             ],
             [
              0.3333333333333333,
              "#9c179e"
             ],
             [
              0.4444444444444444,
              "#bd3786"
             ],
             [
              0.5555555555555556,
              "#d8576b"
             ],
             [
              0.6666666666666666,
              "#ed7953"
             ],
             [
              0.7777777777777778,
              "#fb9f3a"
             ],
             [
              0.8888888888888888,
              "#fdca26"
             ],
             [
              1,
              "#f0f921"
             ]
            ],
            "type": "histogram2dcontour"
           }
          ],
          "mesh3d": [
           {
            "colorbar": {
             "outlinewidth": 0,
             "ticks": ""
            },
            "type": "mesh3d"
           }
          ],
          "parcoords": [
           {
            "line": {
             "colorbar": {
              "outlinewidth": 0,
              "ticks": ""
             }
            },
            "type": "parcoords"
           }
          ],
          "pie": [
           {
            "automargin": true,
            "type": "pie"
           }
          ],
          "scatter": [
           {
            "fillpattern": {
             "fillmode": "overlay",
             "size": 10,
             "solidity": 0.2
            },
            "type": "scatter"
           }
          ],
          "scatter3d": [
           {
            "line": {
             "colorbar": {
              "outlinewidth": 0,
              "ticks": ""
             }
            },
            "marker": {
             "colorbar": {
              "outlinewidth": 0,
              "ticks": ""
             }
            },
            "type": "scatter3d"
           }
          ],
          "scattercarpet": [
           {
            "marker": {
             "colorbar": {
              "outlinewidth": 0,
              "ticks": ""
             }
            },
            "type": "scattercarpet"
           }
          ],
          "scattergeo": [
           {
            "marker": {
             "colorbar": {
              "outlinewidth": 0,
              "ticks": ""
             }
            },
            "type": "scattergeo"
           }
          ],
          "scattergl": [
           {
            "marker": {
             "colorbar": {
              "outlinewidth": 0,
              "ticks": ""
             }
            },
            "type": "scattergl"
           }
          ],
          "scattermapbox": [
           {
            "marker": {
             "colorbar": {
              "outlinewidth": 0,
              "ticks": ""
             }
            },
            "type": "scattermapbox"
           }
          ],
          "scatterpolar": [
           {
            "marker": {
             "colorbar": {
              "outlinewidth": 0,
              "ticks": ""
             }
            },
            "type": "scatterpolar"
           }
          ],
          "scatterpolargl": [
           {
            "marker": {
             "colorbar": {
              "outlinewidth": 0,
              "ticks": ""
             }
            },
            "type": "scatterpolargl"
           }
          ],
          "scatterternary": [
           {
            "marker": {
             "colorbar": {
              "outlinewidth": 0,
              "ticks": ""
             }
            },
            "type": "scatterternary"
           }
          ],
          "surface": [
           {
            "colorbar": {
             "outlinewidth": 0,
             "ticks": ""
            },
            "colorscale": [
             [
              0,
              "#0d0887"
             ],
             [
              0.1111111111111111,
              "#46039f"
             ],
             [
              0.2222222222222222,
              "#7201a8"
             ],
             [
              0.3333333333333333,
              "#9c179e"
             ],
             [
              0.4444444444444444,
              "#bd3786"
             ],
             [
              0.5555555555555556,
              "#d8576b"
             ],
             [
              0.6666666666666666,
              "#ed7953"
             ],
             [
              0.7777777777777778,
              "#fb9f3a"
             ],
             [
              0.8888888888888888,
              "#fdca26"
             ],
             [
              1,
              "#f0f921"
             ]
            ],
            "type": "surface"
           }
          ],
          "table": [
           {
            "cells": {
             "fill": {
              "color": "#EBF0F8"
             },
             "line": {
              "color": "white"
             }
            },
            "header": {
             "fill": {
              "color": "#C8D4E3"
             },
             "line": {
              "color": "white"
             }
            },
            "type": "table"
           }
          ]
         },
         "layout": {
          "annotationdefaults": {
           "arrowcolor": "#2a3f5f",
           "arrowhead": 0,
           "arrowwidth": 1
          },
          "autotypenumbers": "strict",
          "coloraxis": {
           "colorbar": {
            "outlinewidth": 0,
            "ticks": ""
           }
          },
          "colorscale": {
           "diverging": [
            [
             0,
             "#8e0152"
            ],
            [
             0.1,
             "#c51b7d"
            ],
            [
             0.2,
             "#de77ae"
            ],
            [
             0.3,
             "#f1b6da"
            ],
            [
             0.4,
             "#fde0ef"
            ],
            [
             0.5,
             "#f7f7f7"
            ],
            [
             0.6,
             "#e6f5d0"
            ],
            [
             0.7,
             "#b8e186"
            ],
            [
             0.8,
             "#7fbc41"
            ],
            [
             0.9,
             "#4d9221"
            ],
            [
             1,
             "#276419"
            ]
           ],
           "sequential": [
            [
             0,
             "#0d0887"
            ],
            [
             0.1111111111111111,
             "#46039f"
            ],
            [
             0.2222222222222222,
             "#7201a8"
            ],
            [
             0.3333333333333333,
             "#9c179e"
            ],
            [
             0.4444444444444444,
             "#bd3786"
            ],
            [
             0.5555555555555556,
             "#d8576b"
            ],
            [
             0.6666666666666666,
             "#ed7953"
            ],
            [
             0.7777777777777778,
             "#fb9f3a"
            ],
            [
             0.8888888888888888,
             "#fdca26"
            ],
            [
             1,
             "#f0f921"
            ]
           ],
           "sequentialminus": [
            [
             0,
             "#0d0887"
            ],
            [
             0.1111111111111111,
             "#46039f"
            ],
            [
             0.2222222222222222,
             "#7201a8"
            ],
            [
             0.3333333333333333,
             "#9c179e"
            ],
            [
             0.4444444444444444,
             "#bd3786"
            ],
            [
             0.5555555555555556,
             "#d8576b"
            ],
            [
             0.6666666666666666,
             "#ed7953"
            ],
            [
             0.7777777777777778,
             "#fb9f3a"
            ],
            [
             0.8888888888888888,
             "#fdca26"
            ],
            [
             1,
             "#f0f921"
            ]
           ]
          },
          "colorway": [
           "#636efa",
           "#EF553B",
           "#00cc96",
           "#ab63fa",
           "#FFA15A",
           "#19d3f3",
           "#FF6692",
           "#B6E880",
           "#FF97FF",
           "#FECB52"
          ],
          "font": {
           "color": "#2a3f5f"
          },
          "geo": {
           "bgcolor": "white",
           "lakecolor": "white",
           "landcolor": "#E5ECF6",
           "showlakes": true,
           "showland": true,
           "subunitcolor": "white"
          },
          "hoverlabel": {
           "align": "left"
          },
          "hovermode": "closest",
          "mapbox": {
           "style": "light"
          },
          "paper_bgcolor": "white",
          "plot_bgcolor": "#E5ECF6",
          "polar": {
           "angularaxis": {
            "gridcolor": "white",
            "linecolor": "white",
            "ticks": ""
           },
           "bgcolor": "#E5ECF6",
           "radialaxis": {
            "gridcolor": "white",
            "linecolor": "white",
            "ticks": ""
           }
          },
          "scene": {
           "xaxis": {
            "backgroundcolor": "#E5ECF6",
            "gridcolor": "white",
            "gridwidth": 2,
            "linecolor": "white",
            "showbackground": true,
            "ticks": "",
            "zerolinecolor": "white"
           },
           "yaxis": {
            "backgroundcolor": "#E5ECF6",
            "gridcolor": "white",
            "gridwidth": 2,
            "linecolor": "white",
            "showbackground": true,
            "ticks": "",
            "zerolinecolor": "white"
           },
           "zaxis": {
            "backgroundcolor": "#E5ECF6",
            "gridcolor": "white",
            "gridwidth": 2,
            "linecolor": "white",
            "showbackground": true,
            "ticks": "",
            "zerolinecolor": "white"
           }
          },
          "shapedefaults": {
           "line": {
            "color": "#2a3f5f"
           }
          },
          "ternary": {
           "aaxis": {
            "gridcolor": "white",
            "linecolor": "white",
            "ticks": ""
           },
           "baxis": {
            "gridcolor": "white",
            "linecolor": "white",
            "ticks": ""
           },
           "bgcolor": "#E5ECF6",
           "caxis": {
            "gridcolor": "white",
            "linecolor": "white",
            "ticks": ""
           }
          },
          "title": {
           "x": 0.05
          },
          "xaxis": {
           "automargin": true,
           "gridcolor": "white",
           "linecolor": "white",
           "ticks": "",
           "title": {
            "standoff": 15
           },
           "zerolinecolor": "white",
           "zerolinewidth": 2
          },
          "yaxis": {
           "automargin": true,
           "gridcolor": "white",
           "linecolor": "white",
           "ticks": "",
           "title": {
            "standoff": 15
           },
           "zerolinecolor": "white",
           "zerolinewidth": 2
          }
         }
        },
        "title": {
         "text": "uni-gram"
        },
        "width": 800,
        "xaxis": {
         "anchor": "y",
         "domain": [
          0,
          1
         ],
         "title": {
          "text": "word_count"
         }
        },
        "yaxis": {
         "anchor": "x",
         "domain": [
          0,
          1
         ],
         "title": {
          "text": "word"
         }
        }
       }
      }
     },
     "metadata": {},
     "output_type": "display_data"
    }
   ],
   "source": [
    "import pandas as pd\n",
    "import csv\n",
    "from nltk.stem.porter import PorterStemmer\n",
    "from nltk.stem.wordnet import WordNetLemmatizer as WNL\n",
    "import nltk\n",
    "from nltk.corpus import stopwords\n",
    "import nlplot\n",
    "\n",
    "porter = PorterStemmer()\n",
    "nltk.download('wordnet')\n",
    "stop = stopwords.words('english')\n",
    "\n",
    "def get_wordsArray(text):\n",
    "    return [word for word in text.split()]\n",
    "\n",
    "def tokenizer_porter(text):\n",
    "    return [porter.stem(word) for word in text.split()]\n",
    "\n",
    "def tokenizer_wordNet(text):\n",
    "    wnl = WNL()\n",
    "    return [wnl.lemmatize(word) for word in text.split()]\n",
    "\n",
    "def remove_stopword(words):\n",
    "    return [w for w in words if w not in stop]\n",
    "\n",
    "def remove_word(words, wordToRemoveList):\n",
    "    return [w for w in words if w not in wordToRemoveList]\n",
    "\n",
    "csvName = \"negetiveText_US_Airways.txt\"\n",
    "wordToRemoveList = [\"@USAirways\", \"I\", \"us\", \"@AmericanAir\", \"I'm\", \"I've\",\"you\",\"u\",\"-\",\"@usairways\",\"&\"]\n",
    "\n",
    "rows = []\n",
    "with open(csvName, encoding='utf-8') as f:\n",
    "    reader = csv.reader(f)\n",
    "    for row in reader:\n",
    "        rows.append(row)\n",
    "\n",
    "print(\"len(rows): \", len(rows))\n",
    "\n",
    "list = []\n",
    "for i, content in enumerate(rows):\n",
    "    if len(rows[i]) == 0 : continue\n",
    "    result = \" \".join(rows[i])\n",
    "    #words_wordNet = tokenizer_wordNet(result)\n",
    "    words_array = get_wordsArray(result)\n",
    "    words_noStopWords = remove_stopword(words_array)\n",
    "    words_wordRemoved = remove_word(words_noStopWords, wordToRemoveList)\n",
    "    list.append([words_wordRemoved])\n",
    "\n",
    "df = pd.DataFrame(list)\n",
    "df.columns = [\"words\"]\n",
    "print(df)\n",
    "\n",
    "npt = nlplot.NLPlot(df,target_col='words')\n",
    "stopwords = npt.get_stopword(top_n=0, min_freq=0)\n",
    "\n",
    "npt.bar_ngram(\n",
    "    title='uni-gram',\n",
    "    xaxis_label='word_count',\n",
    "    yaxis_label='word',\n",
    "    ngram=1,\n",
    "    top_n=50,\n",
    "    stopwords=stopwords,\n",
    ")"
   ]
  },
  {
   "cell_type": "code",
   "execution_count": 2,
   "metadata": {},
   "outputs": [
    {
     "name": "stderr",
     "output_type": "stream",
     "text": [
      "100%|██████████| 2263/2263 [00:00<00:00, 100156.27it/s]\n"
     ]
    },
    {
     "data": {
      "application/vnd.plotly.v1+json": {
       "config": {
        "plotlyServerURL": "https://plot.ly"
       },
       "data": [
        {
         "alignmentgroup": "True",
         "hovertemplate": "word_count=%{text}<br>word=%{y}<extra></extra>",
         "legendgroup": "",
         "marker": {
          "pattern": {
           "shape": ""
          }
         },
         "name": "",
         "offsetgroup": "",
         "orientation": "h",
         "showlegend": false,
         "text": [
          10,
          10,
          10,
          10,
          10,
          10,
          10,
          11,
          11,
          12,
          12,
          12,
          12,
          12,
          12,
          12,
          12,
          12,
          12,
          12,
          13,
          13,
          13,
          13,
          13,
          14,
          14,
          16,
          17,
          17,
          17,
          17,
          18,
          18,
          18,
          18,
          19,
          19,
          20,
          20,
          24,
          25,
          26,
          26,
          30,
          33,
          33,
          43,
          74,
          91
         ],
         "textposition": "auto",
         "texttemplate": "%{text:.2s}",
         "type": "bar",
         "x": [
          10,
          10,
          10,
          10,
          10,
          10,
          10,
          11,
          11,
          12,
          12,
          12,
          12,
          12,
          12,
          12,
          12,
          12,
          12,
          12,
          13,
          13,
          13,
          13,
          13,
          14,
          14,
          16,
          17,
          17,
          17,
          17,
          18,
          18,
          18,
          18,
          19,
          19,
          20,
          20,
          24,
          25,
          26,
          26,
          30,
          33,
          33,
          43,
          74,
          91
         ],
         "xaxis": "x",
         "y": [
          "us air",
          "still waiting",
          "two hours",
          "late flightr.",
          "worst experience",
          "miss connection",
          "told call",
          "reflight booking",
          "please help",
          "flightled flight",
          "worst airline",
          "get home",
          "4 hours",
          "hold hour",
          "2 days",
          "last night",
          "get plane",
          "my flight",
          "flight booking",
          "gate agent",
          "delayed flight",
          "dividend miles",
          "back late",
          "2 hrs",
          "connecting flight",
          "need help",
          "cancelled flightled.",
          "us airways",
          "never fly",
          "hold 2",
          "hours hold",
          "on hold",
          "hours late",
          "late flight.",
          "trying get",
          "flight delayed",
          "cancelled flight",
          "3 hours",
          "worst customer",
          "booking problems",
          "late flight",
          "call back",
          "customer service.",
          "can't get",
          "2 hours",
          "late flightr",
          "cancelled flighted",
          "flight cancelled",
          "cancelled flightled",
          "customer service"
         ],
         "yaxis": "y"
        }
       ],
       "layout": {
        "barmode": "relative",
        "height": 1100,
        "legend": {
         "tracegroupgap": 0
        },
        "margin": {
         "t": 60
        },
        "template": {
         "data": {
          "bar": [
           {
            "error_x": {
             "color": "#2a3f5f"
            },
            "error_y": {
             "color": "#2a3f5f"
            },
            "marker": {
             "line": {
              "color": "#E5ECF6",
              "width": 0.5
             },
             "pattern": {
              "fillmode": "overlay",
              "size": 10,
              "solidity": 0.2
             }
            },
            "type": "bar"
           }
          ],
          "barpolar": [
           {
            "marker": {
             "line": {
              "color": "#E5ECF6",
              "width": 0.5
             },
             "pattern": {
              "fillmode": "overlay",
              "size": 10,
              "solidity": 0.2
             }
            },
            "type": "barpolar"
           }
          ],
          "carpet": [
           {
            "aaxis": {
             "endlinecolor": "#2a3f5f",
             "gridcolor": "white",
             "linecolor": "white",
             "minorgridcolor": "white",
             "startlinecolor": "#2a3f5f"
            },
            "baxis": {
             "endlinecolor": "#2a3f5f",
             "gridcolor": "white",
             "linecolor": "white",
             "minorgridcolor": "white",
             "startlinecolor": "#2a3f5f"
            },
            "type": "carpet"
           }
          ],
          "choropleth": [
           {
            "colorbar": {
             "outlinewidth": 0,
             "ticks": ""
            },
            "type": "choropleth"
           }
          ],
          "contour": [
           {
            "colorbar": {
             "outlinewidth": 0,
             "ticks": ""
            },
            "colorscale": [
             [
              0,
              "#0d0887"
             ],
             [
              0.1111111111111111,
              "#46039f"
             ],
             [
              0.2222222222222222,
              "#7201a8"
             ],
             [
              0.3333333333333333,
              "#9c179e"
             ],
             [
              0.4444444444444444,
              "#bd3786"
             ],
             [
              0.5555555555555556,
              "#d8576b"
             ],
             [
              0.6666666666666666,
              "#ed7953"
             ],
             [
              0.7777777777777778,
              "#fb9f3a"
             ],
             [
              0.8888888888888888,
              "#fdca26"
             ],
             [
              1,
              "#f0f921"
             ]
            ],
            "type": "contour"
           }
          ],
          "contourcarpet": [
           {
            "colorbar": {
             "outlinewidth": 0,
             "ticks": ""
            },
            "type": "contourcarpet"
           }
          ],
          "heatmap": [
           {
            "colorbar": {
             "outlinewidth": 0,
             "ticks": ""
            },
            "colorscale": [
             [
              0,
              "#0d0887"
             ],
             [
              0.1111111111111111,
              "#46039f"
             ],
             [
              0.2222222222222222,
              "#7201a8"
             ],
             [
              0.3333333333333333,
              "#9c179e"
             ],
             [
              0.4444444444444444,
              "#bd3786"
             ],
             [
              0.5555555555555556,
              "#d8576b"
             ],
             [
              0.6666666666666666,
              "#ed7953"
             ],
             [
              0.7777777777777778,
              "#fb9f3a"
             ],
             [
              0.8888888888888888,
              "#fdca26"
             ],
             [
              1,
              "#f0f921"
             ]
            ],
            "type": "heatmap"
           }
          ],
          "heatmapgl": [
           {
            "colorbar": {
             "outlinewidth": 0,
             "ticks": ""
            },
            "colorscale": [
             [
              0,
              "#0d0887"
             ],
             [
              0.1111111111111111,
              "#46039f"
             ],
             [
              0.2222222222222222,
              "#7201a8"
             ],
             [
              0.3333333333333333,
              "#9c179e"
             ],
             [
              0.4444444444444444,
              "#bd3786"
             ],
             [
              0.5555555555555556,
              "#d8576b"
             ],
             [
              0.6666666666666666,
              "#ed7953"
             ],
             [
              0.7777777777777778,
              "#fb9f3a"
             ],
             [
              0.8888888888888888,
              "#fdca26"
             ],
             [
              1,
              "#f0f921"
             ]
            ],
            "type": "heatmapgl"
           }
          ],
          "histogram": [
           {
            "marker": {
             "pattern": {
              "fillmode": "overlay",
              "size": 10,
              "solidity": 0.2
             }
            },
            "type": "histogram"
           }
          ],
          "histogram2d": [
           {
            "colorbar": {
             "outlinewidth": 0,
             "ticks": ""
            },
            "colorscale": [
             [
              0,
              "#0d0887"
             ],
             [
              0.1111111111111111,
              "#46039f"
             ],
             [
              0.2222222222222222,
              "#7201a8"
             ],
             [
              0.3333333333333333,
              "#9c179e"
             ],
             [
              0.4444444444444444,
              "#bd3786"
             ],
             [
              0.5555555555555556,
              "#d8576b"
             ],
             [
              0.6666666666666666,
              "#ed7953"
             ],
             [
              0.7777777777777778,
              "#fb9f3a"
             ],
             [
              0.8888888888888888,
              "#fdca26"
             ],
             [
              1,
              "#f0f921"
             ]
            ],
            "type": "histogram2d"
           }
          ],
          "histogram2dcontour": [
           {
            "colorbar": {
             "outlinewidth": 0,
             "ticks": ""
            },
            "colorscale": [
             [
              0,
              "#0d0887"
             ],
             [
              0.1111111111111111,
              "#46039f"
             ],
             [
              0.2222222222222222,
              "#7201a8"
             ],
             [
              0.3333333333333333,
              "#9c179e"
             ],
             [
              0.4444444444444444,
              "#bd3786"
             ],
             [
              0.5555555555555556,
              "#d8576b"
             ],
             [
              0.6666666666666666,
              "#ed7953"
             ],
             [
              0.7777777777777778,
              "#fb9f3a"
             ],
             [
              0.8888888888888888,
              "#fdca26"
             ],
             [
              1,
              "#f0f921"
             ]
            ],
            "type": "histogram2dcontour"
           }
          ],
          "mesh3d": [
           {
            "colorbar": {
             "outlinewidth": 0,
             "ticks": ""
            },
            "type": "mesh3d"
           }
          ],
          "parcoords": [
           {
            "line": {
             "colorbar": {
              "outlinewidth": 0,
              "ticks": ""
             }
            },
            "type": "parcoords"
           }
          ],
          "pie": [
           {
            "automargin": true,
            "type": "pie"
           }
          ],
          "scatter": [
           {
            "fillpattern": {
             "fillmode": "overlay",
             "size": 10,
             "solidity": 0.2
            },
            "type": "scatter"
           }
          ],
          "scatter3d": [
           {
            "line": {
             "colorbar": {
              "outlinewidth": 0,
              "ticks": ""
             }
            },
            "marker": {
             "colorbar": {
              "outlinewidth": 0,
              "ticks": ""
             }
            },
            "type": "scatter3d"
           }
          ],
          "scattercarpet": [
           {
            "marker": {
             "colorbar": {
              "outlinewidth": 0,
              "ticks": ""
             }
            },
            "type": "scattercarpet"
           }
          ],
          "scattergeo": [
           {
            "marker": {
             "colorbar": {
              "outlinewidth": 0,
              "ticks": ""
             }
            },
            "type": "scattergeo"
           }
          ],
          "scattergl": [
           {
            "marker": {
             "colorbar": {
              "outlinewidth": 0,
              "ticks": ""
             }
            },
            "type": "scattergl"
           }
          ],
          "scattermapbox": [
           {
            "marker": {
             "colorbar": {
              "outlinewidth": 0,
              "ticks": ""
             }
            },
            "type": "scattermapbox"
           }
          ],
          "scatterpolar": [
           {
            "marker": {
             "colorbar": {
              "outlinewidth": 0,
              "ticks": ""
             }
            },
            "type": "scatterpolar"
           }
          ],
          "scatterpolargl": [
           {
            "marker": {
             "colorbar": {
              "outlinewidth": 0,
              "ticks": ""
             }
            },
            "type": "scatterpolargl"
           }
          ],
          "scatterternary": [
           {
            "marker": {
             "colorbar": {
              "outlinewidth": 0,
              "ticks": ""
             }
            },
            "type": "scatterternary"
           }
          ],
          "surface": [
           {
            "colorbar": {
             "outlinewidth": 0,
             "ticks": ""
            },
            "colorscale": [
             [
              0,
              "#0d0887"
             ],
             [
              0.1111111111111111,
              "#46039f"
             ],
             [
              0.2222222222222222,
              "#7201a8"
             ],
             [
              0.3333333333333333,
              "#9c179e"
             ],
             [
              0.4444444444444444,
              "#bd3786"
             ],
             [
              0.5555555555555556,
              "#d8576b"
             ],
             [
              0.6666666666666666,
              "#ed7953"
             ],
             [
              0.7777777777777778,
              "#fb9f3a"
             ],
             [
              0.8888888888888888,
              "#fdca26"
             ],
             [
              1,
              "#f0f921"
             ]
            ],
            "type": "surface"
           }
          ],
          "table": [
           {
            "cells": {
             "fill": {
              "color": "#EBF0F8"
             },
             "line": {
              "color": "white"
             }
            },
            "header": {
             "fill": {
              "color": "#C8D4E3"
             },
             "line": {
              "color": "white"
             }
            },
            "type": "table"
           }
          ]
         },
         "layout": {
          "annotationdefaults": {
           "arrowcolor": "#2a3f5f",
           "arrowhead": 0,
           "arrowwidth": 1
          },
          "autotypenumbers": "strict",
          "coloraxis": {
           "colorbar": {
            "outlinewidth": 0,
            "ticks": ""
           }
          },
          "colorscale": {
           "diverging": [
            [
             0,
             "#8e0152"
            ],
            [
             0.1,
             "#c51b7d"
            ],
            [
             0.2,
             "#de77ae"
            ],
            [
             0.3,
             "#f1b6da"
            ],
            [
             0.4,
             "#fde0ef"
            ],
            [
             0.5,
             "#f7f7f7"
            ],
            [
             0.6,
             "#e6f5d0"
            ],
            [
             0.7,
             "#b8e186"
            ],
            [
             0.8,
             "#7fbc41"
            ],
            [
             0.9,
             "#4d9221"
            ],
            [
             1,
             "#276419"
            ]
           ],
           "sequential": [
            [
             0,
             "#0d0887"
            ],
            [
             0.1111111111111111,
             "#46039f"
            ],
            [
             0.2222222222222222,
             "#7201a8"
            ],
            [
             0.3333333333333333,
             "#9c179e"
            ],
            [
             0.4444444444444444,
             "#bd3786"
            ],
            [
             0.5555555555555556,
             "#d8576b"
            ],
            [
             0.6666666666666666,
             "#ed7953"
            ],
            [
             0.7777777777777778,
             "#fb9f3a"
            ],
            [
             0.8888888888888888,
             "#fdca26"
            ],
            [
             1,
             "#f0f921"
            ]
           ],
           "sequentialminus": [
            [
             0,
             "#0d0887"
            ],
            [
             0.1111111111111111,
             "#46039f"
            ],
            [
             0.2222222222222222,
             "#7201a8"
            ],
            [
             0.3333333333333333,
             "#9c179e"
            ],
            [
             0.4444444444444444,
             "#bd3786"
            ],
            [
             0.5555555555555556,
             "#d8576b"
            ],
            [
             0.6666666666666666,
             "#ed7953"
            ],
            [
             0.7777777777777778,
             "#fb9f3a"
            ],
            [
             0.8888888888888888,
             "#fdca26"
            ],
            [
             1,
             "#f0f921"
            ]
           ]
          },
          "colorway": [
           "#636efa",
           "#EF553B",
           "#00cc96",
           "#ab63fa",
           "#FFA15A",
           "#19d3f3",
           "#FF6692",
           "#B6E880",
           "#FF97FF",
           "#FECB52"
          ],
          "font": {
           "color": "#2a3f5f"
          },
          "geo": {
           "bgcolor": "white",
           "lakecolor": "white",
           "landcolor": "#E5ECF6",
           "showlakes": true,
           "showland": true,
           "subunitcolor": "white"
          },
          "hoverlabel": {
           "align": "left"
          },
          "hovermode": "closest",
          "mapbox": {
           "style": "light"
          },
          "paper_bgcolor": "white",
          "plot_bgcolor": "#E5ECF6",
          "polar": {
           "angularaxis": {
            "gridcolor": "white",
            "linecolor": "white",
            "ticks": ""
           },
           "bgcolor": "#E5ECF6",
           "radialaxis": {
            "gridcolor": "white",
            "linecolor": "white",
            "ticks": ""
           }
          },
          "scene": {
           "xaxis": {
            "backgroundcolor": "#E5ECF6",
            "gridcolor": "white",
            "gridwidth": 2,
            "linecolor": "white",
            "showbackground": true,
            "ticks": "",
            "zerolinecolor": "white"
           },
           "yaxis": {
            "backgroundcolor": "#E5ECF6",
            "gridcolor": "white",
            "gridwidth": 2,
            "linecolor": "white",
            "showbackground": true,
            "ticks": "",
            "zerolinecolor": "white"
           },
           "zaxis": {
            "backgroundcolor": "#E5ECF6",
            "gridcolor": "white",
            "gridwidth": 2,
            "linecolor": "white",
            "showbackground": true,
            "ticks": "",
            "zerolinecolor": "white"
           }
          },
          "shapedefaults": {
           "line": {
            "color": "#2a3f5f"
           }
          },
          "ternary": {
           "aaxis": {
            "gridcolor": "white",
            "linecolor": "white",
            "ticks": ""
           },
           "baxis": {
            "gridcolor": "white",
            "linecolor": "white",
            "ticks": ""
           },
           "bgcolor": "#E5ECF6",
           "caxis": {
            "gridcolor": "white",
            "linecolor": "white",
            "ticks": ""
           }
          },
          "title": {
           "x": 0.05
          },
          "xaxis": {
           "automargin": true,
           "gridcolor": "white",
           "linecolor": "white",
           "ticks": "",
           "title": {
            "standoff": 15
           },
           "zerolinecolor": "white",
           "zerolinewidth": 2
          },
          "yaxis": {
           "automargin": true,
           "gridcolor": "white",
           "linecolor": "white",
           "ticks": "",
           "title": {
            "standoff": 15
           },
           "zerolinecolor": "white",
           "zerolinewidth": 2
          }
         }
        },
        "title": {
         "text": "bi-gram"
        },
        "width": 800,
        "xaxis": {
         "anchor": "y",
         "domain": [
          0,
          1
         ],
         "title": {
          "text": "word_count"
         }
        },
        "yaxis": {
         "anchor": "x",
         "domain": [
          0,
          1
         ],
         "title": {
          "text": "word"
         }
        }
       }
      }
     },
     "metadata": {},
     "output_type": "display_data"
    }
   ],
   "source": [
    "npt.bar_ngram(\n",
    "    title='bi-gram',\n",
    "    xaxis_label='word_count',\n",
    "    yaxis_label='word',\n",
    "    ngram=2,\n",
    "    top_n=50,\n",
    "    stopwords=stopwords,\n",
    ")"
   ]
  },
  {
   "cell_type": "code",
   "execution_count": 4,
   "metadata": {},
   "outputs": [
    {
     "name": "stdout",
     "output_type": "stream",
     "text": [
      "node_size:26, edge_size:35\n"
     ]
    },
    {
     "data": {
      "application/vnd.plotly.v1+json": {
       "config": {
        "linkText": "Export to plot.ly",
        "plotlyServerURL": "https://plot.ly",
        "showLink": false
       },
       "data": [
        {
         "line": {
          "shape": "spline",
          "width": 1.2
         },
         "marker": {
          "color": "#ece8e8"
         },
         "mode": "lines",
         "opacity": 1,
         "type": "scatter",
         "x": [
          0.06025219499592016,
          -0.1532451116056811,
          null
         ],
         "y": [
          0.4644497533811319,
          0.23244138792075328,
          null
         ]
        },
        {
         "line": {
          "shape": "spline",
          "width": 1.2
         },
         "marker": {
          "color": "#ece8e8"
         },
         "mode": "lines",
         "opacity": 1,
         "type": "scatter",
         "x": [
          0.06025219499592016,
          0.10088313801569061,
          null
         ],
         "y": [
          0.4644497533811319,
          -0.01255814011974682,
          null
         ]
        },
        {
         "line": {
          "shape": "spline",
          "width": 1.2
         },
         "marker": {
          "color": "#ece8e8"
         },
         "mode": "lines",
         "opacity": 1,
         "type": "scatter",
         "x": [
          0.9999999999999999,
          0.5649950730350909,
          null
         ],
         "y": [
          0.07002180063827355,
          0.02168310065059564,
          null
         ]
        },
        {
         "line": {
          "shape": "spline",
          "width": 1.2
         },
         "marker": {
          "color": "#ece8e8"
         },
         "mode": "lines",
         "opacity": 1,
         "type": "scatter",
         "x": [
          0.10088313801569061,
          -0.1532451116056811,
          null
         ],
         "y": [
          -0.01255814011974682,
          0.23244138792075328,
          null
         ]
        },
        {
         "line": {
          "shape": "spline",
          "width": 1.2
         },
         "marker": {
          "color": "#ece8e8"
         },
         "mode": "lines",
         "opacity": 1,
         "type": "scatter",
         "x": [
          0.10088313801569061,
          -0.16668622012741566,
          null
         ],
         "y": [
          -0.01255814011974682,
          -0.06564632170546628,
          null
         ]
        },
        {
         "line": {
          "shape": "spline",
          "width": 1.2
         },
         "marker": {
          "color": "#ece8e8"
         },
         "mode": "lines",
         "opacity": 1,
         "type": "scatter",
         "x": [
          0.10088313801569061,
          -0.41954816972082704,
          null
         ],
         "y": [
          -0.01255814011974682,
          0.057378884497125734,
          null
         ]
        },
        {
         "line": {
          "shape": "spline",
          "width": 1.2
         },
         "marker": {
          "color": "#ece8e8"
         },
         "mode": "lines",
         "opacity": 1,
         "type": "scatter",
         "x": [
          0.10088313801569061,
          -0.27783935274384514,
          null
         ],
         "y": [
          -0.01255814011974682,
          -0.23529360356803702,
          null
         ]
        },
        {
         "line": {
          "shape": "spline",
          "width": 1.2
         },
         "marker": {
          "color": "#ece8e8"
         },
         "mode": "lines",
         "opacity": 1,
         "type": "scatter",
         "x": [
          0.10088313801569061,
          0.5649950730350909,
          null
         ],
         "y": [
          -0.01255814011974682,
          0.02168310065059564,
          null
         ]
        },
        {
         "line": {
          "shape": "spline",
          "width": 1.2
         },
         "marker": {
          "color": "#ece8e8"
         },
         "mode": "lines",
         "opacity": 1,
         "type": "scatter",
         "x": [
          0.10088313801569061,
          -0.11843335473795931,
          null
         ],
         "y": [
          -0.01255814011974682,
          -0.4529071093021315,
          null
         ]
        },
        {
         "line": {
          "shape": "spline",
          "width": 1.2
         },
         "marker": {
          "color": "#ece8e8"
         },
         "mode": "lines",
         "opacity": 1,
         "type": "scatter",
         "x": [
          0.10088313801569061,
          -0.25658170997003454,
          null
         ],
         "y": [
          -0.01255814011974682,
          0.3309771004004661,
          null
         ]
        },
        {
         "line": {
          "shape": "spline",
          "width": 1.2
         },
         "marker": {
          "color": "#ece8e8"
         },
         "mode": "lines",
         "opacity": 1,
         "type": "scatter",
         "x": [
          0.10088313801569061,
          0.48829469951931126,
          null
         ],
         "y": [
          -0.01255814011974682,
          -0.2297812424847008,
          null
         ]
        },
        {
         "line": {
          "shape": "spline",
          "width": 1.2
         },
         "marker": {
          "color": "#ece8e8"
         },
         "mode": "lines",
         "opacity": 1,
         "type": "scatter",
         "x": [
          0.10088313801569061,
          0.2699406990176429,
          null
         ],
         "y": [
          -0.01255814011974682,
          0.2437751199466384,
          null
         ]
        },
        {
         "line": {
          "shape": "spline",
          "width": 1.2
         },
         "marker": {
          "color": "#ece8e8"
         },
         "mode": "lines",
         "opacity": 1,
         "type": "scatter",
         "x": [
          0.10088313801569061,
          0.3131911975415471,
          null
         ],
         "y": [
          -0.01255814011974682,
          0.4541072746739668,
          null
         ]
        },
        {
         "line": {
          "shape": "spline",
          "width": 1.2
         },
         "marker": {
          "color": "#ece8e8"
         },
         "mode": "lines",
         "opacity": 1,
         "type": "scatter",
         "x": [
          0.10088313801569061,
          0.3916664385649767,
          null
         ],
         "y": [
          -0.01255814011974682,
          -0.4140181115667312,
          null
         ]
        },
        {
         "line": {
          "shape": "spline",
          "width": 1.2
         },
         "marker": {
          "color": "#ece8e8"
         },
         "mode": "lines",
         "opacity": 1,
         "type": "scatter",
         "x": [
          0.10088313801569061,
          0.10104560358174054,
          null
         ],
         "y": [
          -0.01255814011974682,
          -0.34460681602284055,
          null
         ]
        },
        {
         "line": {
          "shape": "spline",
          "width": 1.2
         },
         "marker": {
          "color": "#ece8e8"
         },
         "mode": "lines",
         "opacity": 1,
         "type": "scatter",
         "x": [
          0.10088313801569061,
          0.4911385419652529,
          null
         ],
         "y": [
          -0.01255814011974682,
          0.21873954879285948,
          null
         ]
        },
        {
         "line": {
          "shape": "spline",
          "width": 1.2
         },
         "marker": {
          "color": "#ece8e8"
         },
         "mode": "lines",
         "opacity": 1,
         "type": "scatter",
         "x": [
          0.10088313801569061,
          0.048165743364486376,
          null
         ],
         "y": [
          -0.01255814011974682,
          -0.4961178155283544,
          null
         ]
        },
        {
         "line": {
          "shape": "spline",
          "width": 1.2
         },
         "marker": {
          "color": "#ece8e8"
         },
         "mode": "lines",
         "opacity": 1,
         "type": "scatter",
         "x": [
          0.04521844061561522,
          0.014007018144651875,
          null
         ],
         "y": [
          0.4092517251906495,
          0.03074186019465639,
          null
         ]
        },
        {
         "line": {
          "shape": "spline",
          "width": 1.2
         },
         "marker": {
          "color": "#ece8e8"
         },
         "mode": "lines",
         "opacity": 1,
         "type": "scatter",
         "x": [
          -0.11843335473795931,
          -0.27783935274384514,
          null
         ],
         "y": [
          -0.4529071093021315,
          -0.23529360356803702,
          null
         ]
        },
        {
         "line": {
          "shape": "spline",
          "width": 1.2
         },
         "marker": {
          "color": "#ece8e8"
         },
         "mode": "lines",
         "opacity": 1,
         "type": "scatter",
         "x": [
          -0.11843335473795931,
          0.10104560358174054,
          null
         ],
         "y": [
          -0.4529071093021315,
          -0.34460681602284055,
          null
         ]
        },
        {
         "line": {
          "shape": "spline",
          "width": 1.2
         },
         "marker": {
          "color": "#ece8e8"
         },
         "mode": "lines",
         "opacity": 1,
         "type": "scatter",
         "x": [
          -0.04587560558170382,
          -0.04590742854337489,
          null
         ],
         "y": [
          0.18989824781908832,
          -0.18985099451649548,
          null
         ]
        },
        {
         "line": {
          "shape": "spline",
          "width": 1.2
         },
         "marker": {
          "color": "#ece8e8"
         },
         "mode": "lines",
         "opacity": 1,
         "type": "scatter",
         "x": [
          -0.25658170997003454,
          -0.41954816972082704,
          null
         ],
         "y": [
          0.3309771004004661,
          0.057378884497125734,
          null
         ]
        },
        {
         "line": {
          "shape": "spline",
          "width": 1.2
         },
         "marker": {
          "color": "#ece8e8"
         },
         "mode": "lines",
         "opacity": 1,
         "type": "scatter",
         "x": [
          -0.8209786284317485,
          -0.41954816972082704,
          null
         ],
         "y": [
          0.24792598415431785,
          0.057378884497125734,
          null
         ]
        },
        {
         "line": {
          "shape": "spline",
          "width": 1.2
         },
         "marker": {
          "color": "#ece8e8"
         },
         "mode": "lines",
         "opacity": 1,
         "type": "scatter",
         "x": [
          -0.37095190836722985,
          -0.1532451116056811,
          null
         ],
         "y": [
          0.6968839025678443,
          0.23244138792075328,
          null
         ]
        },
        {
         "line": {
          "shape": "spline",
          "width": 1.2
         },
         "marker": {
          "color": "#ece8e8"
         },
         "mode": "lines",
         "opacity": 1,
         "type": "scatter",
         "x": [
          -0.5191054620473343,
          -0.27783935274384514,
          null
         ],
         "y": [
          -0.6397937403431867,
          -0.23529360356803702,
          null
         ]
        },
        {
         "line": {
          "shape": "spline",
          "width": 1.2
         },
         "marker": {
          "color": "#ece8e8"
         },
         "mode": "lines",
         "opacity": 1,
         "type": "scatter",
         "x": [
          0.014007018144651875,
          0.0036567822901716323,
          null
         ],
         "y": [
          0.03074186019465639,
          -0.3489117394763555,
          null
         ]
        },
        {
         "line": {
          "shape": "spline",
          "width": 1.2
         },
         "marker": {
          "color": "#ece8e8"
         },
         "mode": "lines",
         "opacity": 1,
         "type": "scatter",
         "x": [
          0.2699406990176429,
          -0.1532451116056811,
          null
         ],
         "y": [
          0.2437751199466384,
          0.23244138792075328,
          null
         ]
        },
        {
         "line": {
          "shape": "spline",
          "width": 1.2
         },
         "marker": {
          "color": "#ece8e8"
         },
         "mode": "lines",
         "opacity": 1,
         "type": "scatter",
         "x": [
          0.2699406990176429,
          0.5649950730350909,
          null
         ],
         "y": [
          0.2437751199466384,
          0.02168310065059564,
          null
         ]
        },
        {
         "line": {
          "shape": "spline",
          "width": 1.2
         },
         "marker": {
          "color": "#ece8e8"
         },
         "mode": "lines",
         "opacity": 1,
         "type": "scatter",
         "x": [
          -0.27783935274384514,
          -0.1532451116056811,
          null
         ],
         "y": [
          -0.23529360356803702,
          0.23244138792075328,
          null
         ]
        },
        {
         "line": {
          "shape": "spline",
          "width": 1.2
         },
         "marker": {
          "color": "#ece8e8"
         },
         "mode": "lines",
         "opacity": 1,
         "type": "scatter",
         "x": [
          -0.27783935274384514,
          0.10104560358174054,
          null
         ],
         "y": [
          -0.23529360356803702,
          -0.34460681602284055,
          null
         ]
        },
        {
         "line": {
          "shape": "spline",
          "width": 1.2
         },
         "marker": {
          "color": "#ece8e8"
         },
         "mode": "lines",
         "opacity": 1,
         "type": "scatter",
         "x": [
          -0.27783935274384514,
          -0.41954816972082704,
          null
         ],
         "y": [
          -0.23529360356803702,
          0.057378884497125734,
          null
         ]
        },
        {
         "line": {
          "shape": "spline",
          "width": 1.2
         },
         "marker": {
          "color": "#ece8e8"
         },
         "mode": "lines",
         "opacity": 1,
         "type": "scatter",
         "x": [
          -0.27783935274384514,
          0.048165743364486376,
          null
         ],
         "y": [
          -0.23529360356803702,
          -0.4961178155283544,
          null
         ]
        },
        {
         "line": {
          "shape": "spline",
          "width": 1.2
         },
         "marker": {
          "color": "#ece8e8"
         },
         "mode": "lines",
         "opacity": 1,
         "type": "scatter",
         "x": [
          -0.27783935274384514,
          -0.6973026187749439,
          null
         ],
         "y": [
          -0.23529360356803702,
          -0.23879005619432087,
          null
         ]
        },
        {
         "line": {
          "shape": "spline",
          "width": 1.2
         },
         "marker": {
          "color": "#ece8e8"
         },
         "mode": "lines",
         "opacity": 1,
         "type": "scatter",
         "x": [
          -0.1532451116056811,
          -0.41954816972082704,
          null
         ],
         "y": [
          0.23244138792075328,
          0.057378884497125734,
          null
         ]
        },
        {
         "line": {
          "shape": "spline",
          "width": 1.2
         },
         "marker": {
          "color": "#ece8e8"
         },
         "mode": "lines",
         "opacity": 1,
         "type": "scatter",
         "x": [
          -0.6973026187749439,
          -0.41954816972082704,
          null
         ],
         "y": [
          -0.23879005619432087,
          0.057378884497125734,
          null
         ]
        },
        {
         "hoverinfo": "text",
         "hovertext": [],
         "marker": {
          "color": [
           "rgb(212.17279999999997,220.16,87.03999999999999)",
           "rgb(212.17279999999997,220.16,87.03999999999999)",
           "rgb(220.16,95.0272,87.03999999999999)",
           "rgb(220.16,95.0272,87.03999999999999)",
           "rgb(95.0272,87.03999999999999,220.16)",
           "rgb(87.03999999999999,220.16,95.0272)",
           "rgb(220.16,95.0272,87.03999999999999)",
           "rgb(220.16,87.03999999999999,212.17279999999997)",
           "rgb(87.03999999999999,212.17279999999997,220.16)",
           "rgb(87.03999999999999,212.17279999999997,220.16)",
           "rgb(212.17279999999997,220.16,87.03999999999999)",
           "rgb(87.03999999999999,220.16,95.0272)",
           "rgb(95.0272,87.03999999999999,220.16)",
           "rgb(212.17279999999997,220.16,87.03999999999999)",
           "rgb(220.16,95.0272,87.03999999999999)",
           "rgb(87.03999999999999,220.16,95.0272)",
           "rgb(220.16,95.0272,87.03999999999999)",
           "rgb(220.16,95.0272,87.03999999999999)",
           "rgb(212.17279999999997,220.16,87.03999999999999)",
           "rgb(220.16,87.03999999999999,212.17279999999997)",
           "rgb(87.03999999999999,212.17279999999997,220.16)",
           "rgb(87.03999999999999,212.17279999999997,220.16)",
           "rgb(95.0272,87.03999999999999,220.16)",
           "rgb(87.03999999999999,220.16,95.0272)",
           "rgb(87.03999999999999,220.16,95.0272)",
           "rgb(212.17279999999997,220.16,87.03999999999999)"
          ],
          "line": {
           "color": "#ece8e8",
           "width": 0.5
          },
          "size": [
           7.142857142857142,
           0,
           100,
           0,
           0,
           14.285714285714285,
           0,
           0,
           7.142857142857142,
           0,
           0,
           0,
           7.142857142857142,
           14.285714285714285,
           0,
           50,
           0,
           0,
           35.71428571428571,
           0,
           7.142857142857142,
           35.71428571428571,
           0,
           7.142857142857142,
           14.285714285714285,
           14.285714285714285
          ]
         },
         "mode": "markers+text",
         "text": [
          "Flightled",
          "Flightr",
          "flight",
          "due",
          "service.",
          "hours",
          "gate",
          "call",
          "plane",
          "can't",
          "Flighted",
          "minutes",
          "customer",
          "Flight",
          "delayed",
          "hold",
          "time",
          "&amp;",
          "Cancelled",
          "back",
          "trying",
          "get",
          "service",
          "hour",
          "2",
          "Late"
         ],
         "textposition": "bottom center",
         "type": "scatter",
         "x": [
          0.06025219499592016,
          0.9999999999999999,
          0.10088313801569061,
          0.4911385419652529,
          0.04521844061561522,
          -0.11843335473795931,
          0.3131911975415471,
          -0.04587560558170382,
          -0.25658170997003454,
          -0.8209786284317485,
          -0.37095190836722985,
          -0.5191054620473343,
          0.014007018144651875,
          0.2699406990176429,
          -0.16668622012741566,
          -0.27783935274384514,
          0.3916664385649767,
          0.48829469951931126,
          -0.1532451116056811,
          -0.04590742854337489,
          -0.6973026187749439,
          -0.41954816972082704,
          0.0036567822901716323,
          0.048165743364486376,
          0.10104560358174054,
          0.5649950730350909
         ],
         "y": [
          0.4644497533811319,
          0.07002180063827355,
          -0.01255814011974682,
          0.21873954879285948,
          0.4092517251906495,
          -0.4529071093021315,
          0.4541072746739668,
          0.18989824781908832,
          0.3309771004004661,
          0.24792598415431785,
          0.6968839025678443,
          -0.6397937403431867,
          0.03074186019465639,
          0.2437751199466384,
          -0.06564632170546628,
          -0.23529360356803702,
          -0.4140181115667312,
          -0.2297812424847008,
          0.23244138792075328,
          -0.18985099451649548,
          -0.23879005619432087,
          0.057378884497125734,
          -0.3489117394763555,
          -0.4961178155283544,
          -0.34460681602284055,
          0.02168310065059564
         ]
        }
       ],
       "layout": {
        "autosize": true,
        "font": {
         "family": "Arial",
         "size": 12
        },
        "height": 1200,
        "hovermode": "closest",
        "margin": {
         "b": 85,
         "l": 40,
         "pad": 0,
         "r": 40,
         "t": 100
        },
        "plot_bgcolor": "#ffffff",
        "showlegend": false,
        "template": {
         "data": {
          "bar": [
           {
            "error_x": {
             "color": "#2a3f5f"
            },
            "error_y": {
             "color": "#2a3f5f"
            },
            "marker": {
             "line": {
              "color": "#E5ECF6",
              "width": 0.5
             },
             "pattern": {
              "fillmode": "overlay",
              "size": 10,
              "solidity": 0.2
             }
            },
            "type": "bar"
           }
          ],
          "barpolar": [
           {
            "marker": {
             "line": {
              "color": "#E5ECF6",
              "width": 0.5
             },
             "pattern": {
              "fillmode": "overlay",
              "size": 10,
              "solidity": 0.2
             }
            },
            "type": "barpolar"
           }
          ],
          "carpet": [
           {
            "aaxis": {
             "endlinecolor": "#2a3f5f",
             "gridcolor": "white",
             "linecolor": "white",
             "minorgridcolor": "white",
             "startlinecolor": "#2a3f5f"
            },
            "baxis": {
             "endlinecolor": "#2a3f5f",
             "gridcolor": "white",
             "linecolor": "white",
             "minorgridcolor": "white",
             "startlinecolor": "#2a3f5f"
            },
            "type": "carpet"
           }
          ],
          "choropleth": [
           {
            "colorbar": {
             "outlinewidth": 0,
             "ticks": ""
            },
            "type": "choropleth"
           }
          ],
          "contour": [
           {
            "colorbar": {
             "outlinewidth": 0,
             "ticks": ""
            },
            "colorscale": [
             [
              0,
              "#0d0887"
             ],
             [
              0.1111111111111111,
              "#46039f"
             ],
             [
              0.2222222222222222,
              "#7201a8"
             ],
             [
              0.3333333333333333,
              "#9c179e"
             ],
             [
              0.4444444444444444,
              "#bd3786"
             ],
             [
              0.5555555555555556,
              "#d8576b"
             ],
             [
              0.6666666666666666,
              "#ed7953"
             ],
             [
              0.7777777777777778,
              "#fb9f3a"
             ],
             [
              0.8888888888888888,
              "#fdca26"
             ],
             [
              1,
              "#f0f921"
             ]
            ],
            "type": "contour"
           }
          ],
          "contourcarpet": [
           {
            "colorbar": {
             "outlinewidth": 0,
             "ticks": ""
            },
            "type": "contourcarpet"
           }
          ],
          "heatmap": [
           {
            "colorbar": {
             "outlinewidth": 0,
             "ticks": ""
            },
            "colorscale": [
             [
              0,
              "#0d0887"
             ],
             [
              0.1111111111111111,
              "#46039f"
             ],
             [
              0.2222222222222222,
              "#7201a8"
             ],
             [
              0.3333333333333333,
              "#9c179e"
             ],
             [
              0.4444444444444444,
              "#bd3786"
             ],
             [
              0.5555555555555556,
              "#d8576b"
             ],
             [
              0.6666666666666666,
              "#ed7953"
             ],
             [
              0.7777777777777778,
              "#fb9f3a"
             ],
             [
              0.8888888888888888,
              "#fdca26"
             ],
             [
              1,
              "#f0f921"
             ]
            ],
            "type": "heatmap"
           }
          ],
          "heatmapgl": [
           {
            "colorbar": {
             "outlinewidth": 0,
             "ticks": ""
            },
            "colorscale": [
             [
              0,
              "#0d0887"
             ],
             [
              0.1111111111111111,
              "#46039f"
             ],
             [
              0.2222222222222222,
              "#7201a8"
             ],
             [
              0.3333333333333333,
              "#9c179e"
             ],
             [
              0.4444444444444444,
              "#bd3786"
             ],
             [
              0.5555555555555556,
              "#d8576b"
             ],
             [
              0.6666666666666666,
              "#ed7953"
             ],
             [
              0.7777777777777778,
              "#fb9f3a"
             ],
             [
              0.8888888888888888,
              "#fdca26"
             ],
             [
              1,
              "#f0f921"
             ]
            ],
            "type": "heatmapgl"
           }
          ],
          "histogram": [
           {
            "marker": {
             "pattern": {
              "fillmode": "overlay",
              "size": 10,
              "solidity": 0.2
             }
            },
            "type": "histogram"
           }
          ],
          "histogram2d": [
           {
            "colorbar": {
             "outlinewidth": 0,
             "ticks": ""
            },
            "colorscale": [
             [
              0,
              "#0d0887"
             ],
             [
              0.1111111111111111,
              "#46039f"
             ],
             [
              0.2222222222222222,
              "#7201a8"
             ],
             [
              0.3333333333333333,
              "#9c179e"
             ],
             [
              0.4444444444444444,
              "#bd3786"
             ],
             [
              0.5555555555555556,
              "#d8576b"
             ],
             [
              0.6666666666666666,
              "#ed7953"
             ],
             [
              0.7777777777777778,
              "#fb9f3a"
             ],
             [
              0.8888888888888888,
              "#fdca26"
             ],
             [
              1,
              "#f0f921"
             ]
            ],
            "type": "histogram2d"
           }
          ],
          "histogram2dcontour": [
           {
            "colorbar": {
             "outlinewidth": 0,
             "ticks": ""
            },
            "colorscale": [
             [
              0,
              "#0d0887"
             ],
             [
              0.1111111111111111,
              "#46039f"
             ],
             [
              0.2222222222222222,
              "#7201a8"
             ],
             [
              0.3333333333333333,
              "#9c179e"
             ],
             [
              0.4444444444444444,
              "#bd3786"
             ],
             [
              0.5555555555555556,
              "#d8576b"
             ],
             [
              0.6666666666666666,
              "#ed7953"
             ],
             [
              0.7777777777777778,
              "#fb9f3a"
             ],
             [
              0.8888888888888888,
              "#fdca26"
             ],
             [
              1,
              "#f0f921"
             ]
            ],
            "type": "histogram2dcontour"
           }
          ],
          "mesh3d": [
           {
            "colorbar": {
             "outlinewidth": 0,
             "ticks": ""
            },
            "type": "mesh3d"
           }
          ],
          "parcoords": [
           {
            "line": {
             "colorbar": {
              "outlinewidth": 0,
              "ticks": ""
             }
            },
            "type": "parcoords"
           }
          ],
          "pie": [
           {
            "automargin": true,
            "type": "pie"
           }
          ],
          "scatter": [
           {
            "fillpattern": {
             "fillmode": "overlay",
             "size": 10,
             "solidity": 0.2
            },
            "type": "scatter"
           }
          ],
          "scatter3d": [
           {
            "line": {
             "colorbar": {
              "outlinewidth": 0,
              "ticks": ""
             }
            },
            "marker": {
             "colorbar": {
              "outlinewidth": 0,
              "ticks": ""
             }
            },
            "type": "scatter3d"
           }
          ],
          "scattercarpet": [
           {
            "marker": {
             "colorbar": {
              "outlinewidth": 0,
              "ticks": ""
             }
            },
            "type": "scattercarpet"
           }
          ],
          "scattergeo": [
           {
            "marker": {
             "colorbar": {
              "outlinewidth": 0,
              "ticks": ""
             }
            },
            "type": "scattergeo"
           }
          ],
          "scattergl": [
           {
            "marker": {
             "colorbar": {
              "outlinewidth": 0,
              "ticks": ""
             }
            },
            "type": "scattergl"
           }
          ],
          "scattermapbox": [
           {
            "marker": {
             "colorbar": {
              "outlinewidth": 0,
              "ticks": ""
             }
            },
            "type": "scattermapbox"
           }
          ],
          "scatterpolar": [
           {
            "marker": {
             "colorbar": {
              "outlinewidth": 0,
              "ticks": ""
             }
            },
            "type": "scatterpolar"
           }
          ],
          "scatterpolargl": [
           {
            "marker": {
             "colorbar": {
              "outlinewidth": 0,
              "ticks": ""
             }
            },
            "type": "scatterpolargl"
           }
          ],
          "scatterternary": [
           {
            "marker": {
             "colorbar": {
              "outlinewidth": 0,
              "ticks": ""
             }
            },
            "type": "scatterternary"
           }
          ],
          "surface": [
           {
            "colorbar": {
             "outlinewidth": 0,
             "ticks": ""
            },
            "colorscale": [
             [
              0,
              "#0d0887"
             ],
             [
              0.1111111111111111,
              "#46039f"
             ],
             [
              0.2222222222222222,
              "#7201a8"
             ],
             [
              0.3333333333333333,
              "#9c179e"
             ],
             [
              0.4444444444444444,
              "#bd3786"
             ],
             [
              0.5555555555555556,
              "#d8576b"
             ],
             [
              0.6666666666666666,
              "#ed7953"
             ],
             [
              0.7777777777777778,
              "#fb9f3a"
             ],
             [
              0.8888888888888888,
              "#fdca26"
             ],
             [
              1,
              "#f0f921"
             ]
            ],
            "type": "surface"
           }
          ],
          "table": [
           {
            "cells": {
             "fill": {
              "color": "#EBF0F8"
             },
             "line": {
              "color": "white"
             }
            },
            "header": {
             "fill": {
              "color": "#C8D4E3"
             },
             "line": {
              "color": "white"
             }
            },
            "type": "table"
           }
          ]
         },
         "layout": {
          "annotationdefaults": {
           "arrowcolor": "#2a3f5f",
           "arrowhead": 0,
           "arrowwidth": 1
          },
          "autotypenumbers": "strict",
          "coloraxis": {
           "colorbar": {
            "outlinewidth": 0,
            "ticks": ""
           }
          },
          "colorscale": {
           "diverging": [
            [
             0,
             "#8e0152"
            ],
            [
             0.1,
             "#c51b7d"
            ],
            [
             0.2,
             "#de77ae"
            ],
            [
             0.3,
             "#f1b6da"
            ],
            [
             0.4,
             "#fde0ef"
            ],
            [
             0.5,
             "#f7f7f7"
            ],
            [
             0.6,
             "#e6f5d0"
            ],
            [
             0.7,
             "#b8e186"
            ],
            [
             0.8,
             "#7fbc41"
            ],
            [
             0.9,
             "#4d9221"
            ],
            [
             1,
             "#276419"
            ]
           ],
           "sequential": [
            [
             0,
             "#0d0887"
            ],
            [
             0.1111111111111111,
             "#46039f"
            ],
            [
             0.2222222222222222,
             "#7201a8"
            ],
            [
             0.3333333333333333,
             "#9c179e"
            ],
            [
             0.4444444444444444,
             "#bd3786"
            ],
            [
             0.5555555555555556,
             "#d8576b"
            ],
            [
             0.6666666666666666,
             "#ed7953"
            ],
            [
             0.7777777777777778,
             "#fb9f3a"
            ],
            [
             0.8888888888888888,
             "#fdca26"
            ],
            [
             1,
             "#f0f921"
            ]
           ],
           "sequentialminus": [
            [
             0,
             "#0d0887"
            ],
            [
             0.1111111111111111,
             "#46039f"
            ],
            [
             0.2222222222222222,
             "#7201a8"
            ],
            [
             0.3333333333333333,
             "#9c179e"
            ],
            [
             0.4444444444444444,
             "#bd3786"
            ],
            [
             0.5555555555555556,
             "#d8576b"
            ],
            [
             0.6666666666666666,
             "#ed7953"
            ],
            [
             0.7777777777777778,
             "#fb9f3a"
            ],
            [
             0.8888888888888888,
             "#fdca26"
            ],
            [
             1,
             "#f0f921"
            ]
           ]
          },
          "colorway": [
           "#636efa",
           "#EF553B",
           "#00cc96",
           "#ab63fa",
           "#FFA15A",
           "#19d3f3",
           "#FF6692",
           "#B6E880",
           "#FF97FF",
           "#FECB52"
          ],
          "font": {
           "color": "#2a3f5f"
          },
          "geo": {
           "bgcolor": "white",
           "lakecolor": "white",
           "landcolor": "#E5ECF6",
           "showlakes": true,
           "showland": true,
           "subunitcolor": "white"
          },
          "hoverlabel": {
           "align": "left"
          },
          "hovermode": "closest",
          "mapbox": {
           "style": "light"
          },
          "paper_bgcolor": "white",
          "plot_bgcolor": "#E5ECF6",
          "polar": {
           "angularaxis": {
            "gridcolor": "white",
            "linecolor": "white",
            "ticks": ""
           },
           "bgcolor": "#E5ECF6",
           "radialaxis": {
            "gridcolor": "white",
            "linecolor": "white",
            "ticks": ""
           }
          },
          "scene": {
           "xaxis": {
            "backgroundcolor": "#E5ECF6",
            "gridcolor": "white",
            "gridwidth": 2,
            "linecolor": "white",
            "showbackground": true,
            "ticks": "",
            "zerolinecolor": "white"
           },
           "yaxis": {
            "backgroundcolor": "#E5ECF6",
            "gridcolor": "white",
            "gridwidth": 2,
            "linecolor": "white",
            "showbackground": true,
            "ticks": "",
            "zerolinecolor": "white"
           },
           "zaxis": {
            "backgroundcolor": "#E5ECF6",
            "gridcolor": "white",
            "gridwidth": 2,
            "linecolor": "white",
            "showbackground": true,
            "ticks": "",
            "zerolinecolor": "white"
           }
          },
          "shapedefaults": {
           "line": {
            "color": "#2a3f5f"
           }
          },
          "ternary": {
           "aaxis": {
            "gridcolor": "white",
            "linecolor": "white",
            "ticks": ""
           },
           "baxis": {
            "gridcolor": "white",
            "linecolor": "white",
            "ticks": ""
           },
           "bgcolor": "#E5ECF6",
           "caxis": {
            "gridcolor": "white",
            "linecolor": "white",
            "ticks": ""
           }
          },
          "title": {
           "x": 0.05
          },
          "xaxis": {
           "automargin": true,
           "gridcolor": "white",
           "linecolor": "white",
           "ticks": "",
           "title": {
            "standoff": 15
           },
           "zerolinecolor": "white",
           "zerolinewidth": 2
          },
          "yaxis": {
           "automargin": true,
           "gridcolor": "white",
           "linecolor": "white",
           "ticks": "",
           "title": {
            "standoff": 15
           },
           "zerolinecolor": "white",
           "zerolinewidth": 2
          }
         }
        },
        "title": {
         "text": "Co-occurrence network"
        },
        "width": 1700,
        "xaxis": {
         "showgrid": false,
         "showline": false,
         "showticklabels": false,
         "title": {
          "text": ""
         },
         "zeroline": false
        },
        "yaxis": {
         "showgrid": false,
         "showline": false,
         "showticklabels": false,
         "title": {
          "text": ""
         },
         "zeroline": false
        }
       }
      }
     },
     "metadata": {},
     "output_type": "display_data"
    }
   ],
   "source": [
    "# ビルド（データ件数によっては処理に時間を要します）\n",
    "npt.build_graph(stopwords=stopwords, min_edge_frequency=20)\n",
    "\n",
    "npt.co_network(title='Co-occurrence network',)"
   ]
  }
 ],
 "metadata": {
  "kernelspec": {
   "display_name": "Python 3.8.13 ('python_env')",
   "language": "python",
   "name": "python3"
  },
  "language_info": {
   "codemirror_mode": {
    "name": "ipython",
    "version": 3
   },
   "file_extension": ".py",
   "mimetype": "text/x-python",
   "name": "python",
   "nbconvert_exporter": "python",
   "pygments_lexer": "ipython3",
   "version": "3.8.13"
  },
  "orig_nbformat": 4,
  "vscode": {
   "interpreter": {
    "hash": "b278085aaae6476ae398a350218ada3829bb2000090af21f3be235344446cf13"
   }
  }
 },
 "nbformat": 4,
 "nbformat_minor": 2
}
